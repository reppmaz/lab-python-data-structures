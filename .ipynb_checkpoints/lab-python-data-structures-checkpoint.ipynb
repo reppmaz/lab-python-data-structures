{
 "cells": [
  {
   "cell_type": "markdown",
   "metadata": {
    "tags": []
   },
   "source": [
    "# Lab | Data Structures "
   ]
  },
  {
   "cell_type": "markdown",
   "metadata": {},
   "source": [
    "## Exercise: Managing Customer Orders\n",
    "\n",
    "As part of a business venture, you are starting an online store that sells various products. To ensure smooth operations, you need to develop a program that manages customer orders and inventory.\n",
    "\n",
    "Follow the steps below to complete the exercise:\n",
    "\n",
    "1. Define a list called `products` that contains the following items: \"t-shirt\", \"mug\", \"hat\", \"book\", \"keychain\".\n",
    "\n",
    "2. Create an empty dictionary called `inventory`.\n",
    "\n",
    "3. Ask the user to input the quantity of each product available in the inventory. Use the product names from the `products` list as keys in the `inventory` dictionary and assign the respective quantities as values.\n",
    "\n",
    "4. Create an empty set called `customer_orders`.\n",
    "\n",
    "5. Ask the user to input the name of three products that a customer wants to order (from those in the products list, meaning three products out of \"t-shirt\", \"mug\", \"hat\", \"book\" or \"keychain\". Add each product name to the `customer_orders` set.\n",
    "\n",
    "6. Print the products in the `customer_orders` set.\n",
    "\n",
    "7. Calculate the following order statistics:\n",
    "   - Total Products Ordered: The total number of products in the `customer_orders` set.\n",
    "   - Percentage of Products Ordered: The percentage of products ordered compared to the total available products.\n",
    "   \n",
    "   Store these statistics in a tuple called `order_status`.\n",
    "\n",
    "8. Print the order statistics using the following format:\n",
    "   ```\n",
    "   Order Statistics:\n",
    "   Total Products Ordered: <total_products_ordered>\n",
    "   Percentage of Products Ordered: <percentage_ordered>% \n",
    "   ```\n",
    "\n",
    "9. Update the inventory by subtracting 1 from the quantity of each product. Modify the `inventory` dictionary accordingly.\n",
    "\n",
    "10. Print the updated inventory, displaying the quantity of each product on separate lines.\n",
    "\n",
    "Solve the exercise by implementing the steps using the Python concepts of lists, dictionaries, sets, and basic input/output operations. "
   ]
  },
  {
   "cell_type": "code",
   "execution_count": 1,
   "metadata": {},
   "outputs": [
    {
     "name": "stdout",
     "output_type": "stream",
     "text": [
      "please enter the the product quantity of the following product: t-shirt: 20\n",
      "please enter the the product quantity of the following product: mug: 20\n",
      "please enter the the product quantity of the following product: hat: 30\n",
      "please enter the the product quantity of the following product: book: 60\n",
      "please enter the the product quantity of the following product: keychain: 69\n",
      "{'t-shirt': 20, 'mug': 20, 'hat': 30, 'book': 60, 'keychain': 69}\n"
     ]
    }
   ],
   "source": [
    "# 1. - 3.\n",
    "products = [\"t-shirt\", \"mug\", \"hat\", \"book\", \"keychain\"]\n",
    "inventory = {}\n",
    "for product in products:\n",
    "    quantity = int(input(f'please enter the the product quantity of the following product: {product}: '))\n",
    "    inventory[product] = quantity\n",
    "\n",
    "print(inventory)"
   ]
  },
  {
   "cell_type": "code",
   "execution_count": 9,
   "metadata": {},
   "outputs": [
    {
     "name": "stdout",
     "output_type": "stream",
     "text": [
      "please enter which of the following items you would like to order: t-shirt, mug, hat, book, or keychain: mug\n",
      "please enter which of the following items you would like to order: t-shirt, mug, hat, book, or keychain: hat\n",
      "please enter which of the following items you would like to order: t-shirt, mug, hat, book, or keychain: book\n",
      "{'mug', 'book', 'hat'}\n"
     ]
    }
   ],
   "source": [
    "# 4. - 6.\n",
    "customer_orders = set() # initiate empty set\n",
    "counter = 0\n",
    "\n",
    "while counter < 3:\n",
    "    counter = counter + 1\n",
    "    order = input('please enter which of the following items you would like to order: t-shirt, mug, hat, book, or keychain: ')\n",
    "    customer_orders.add(order)\n",
    "    \n",
    "print(customer_orders)"
   ]
  },
  {
   "cell_type": "code",
   "execution_count": 27,
   "metadata": {},
   "outputs": [
    {
     "name": "stdout",
     "output_type": "stream",
     "text": [
      "3\n",
      "199\n",
      "3\n",
      "1.507537688442211\n",
      "(199, 1.507537688442211)\n",
      "Order Statistics:\n",
      "Total Products Ordered: 3\n",
      "Percentage of Products Ordered: 1.507537688442211%\n"
     ]
    }
   ],
   "source": [
    "# 7. & 8.\n",
    "print(len(customer_orders))\n",
    "\n",
    "overall = sum(inventory.values())\n",
    "print(overall)\n",
    "nrorders = len(customer_orders)\n",
    "print(nrorders)\n",
    "perc_orders = (nrorders/overall)*100\n",
    "print(perc_orders)\n",
    "\n",
    "order_status = (overall, perc_orders)\n",
    "print(order_status)\n",
    "\n",
    "print(f'Order Statistics:\\nTotal Products Ordered: {nrorders}\\nPercentage of Products Ordered: {perc_orders}%')\n"
   ]
  },
  {
   "cell_type": "code",
   "execution_count": 34,
   "metadata": {},
   "outputs": [
    {
     "name": "stdout",
     "output_type": "stream",
     "text": [
      "{'t-shirt': 20, 'mug': 13, 'hat': 23, 'book': 53, 'keychain': 69}\n",
      "item: t-shirt, avilable: 20\n",
      "item: mug, avilable: 13\n",
      "item: hat, avilable: 23\n",
      "item: book, avilable: 53\n",
      "item: keychain, avilable: 69\n"
     ]
    }
   ],
   "source": [
    "# 9. & 10.\n",
    "for item in customer_orders:\n",
    "    inventory[item] = inventory[item] - 1\n",
    "print(inventory)\n",
    "\n",
    "for key, value in inventory.items():\n",
    "    print(f'item: {key}, avilable: {value}')\n"
   ]
  },
  {
   "cell_type": "code",
   "execution_count": null,
   "metadata": {},
   "outputs": [],
   "source": []
  }
 ],
 "metadata": {
  "kernelspec": {
   "display_name": "Python 3 (ipykernel)",
   "language": "python",
   "name": "python3"
  },
  "language_info": {
   "codemirror_mode": {
    "name": "ipython",
    "version": 3
   },
   "file_extension": ".py",
   "mimetype": "text/x-python",
   "name": "python",
   "nbconvert_exporter": "python",
   "pygments_lexer": "ipython3",
   "version": "3.9.19"
  }
 },
 "nbformat": 4,
 "nbformat_minor": 4
}
